{
  "nbformat": 4,
  "nbformat_minor": 0,
  "metadata": {
    "colab": {
      "name": "Prophet_TS.ipynb",
      "provenance": [],
      "collapsed_sections": []
    },
    "kernelspec": {
      "name": "python3",
      "display_name": "Python 3"
    },
    "language_info": {
      "name": "python"
    }
  },
  "cells": [
    {
      "cell_type": "code",
      "metadata": {
        "colab": {
          "base_uri": "https://localhost:8080/"
        },
        "id": "HcpKBkINPUhh",
        "outputId": "298e50de-2268-48bf-b5ba-45989185bc0a"
      },
      "source": [
        "from fbprophet import Prophet\n",
        "from fbprophet.plot import plot_plotly\n",
        "import numpy as np\n",
        "import pandas as pd\n",
        "import matplotlib.pyplot as plt\n",
        "import seaborn as sns\n",
        "import plotly.offline as py\n",
        "from datetime import datetime\n",
        "from sklearn.metrics import mean_absolute_error\n",
        "from statsmodels.tools.eval_measures import rmse"
      ],
      "execution_count": 1,
      "outputs": [
        {
          "output_type": "stream",
          "text": [
            "/usr/local/lib/python3.7/dist-packages/statsmodels/tools/_testing.py:19: FutureWarning:\n",
            "\n",
            "pandas.util.testing is deprecated. Use the functions in the public API at pandas.testing instead.\n",
            "\n"
          ],
          "name": "stderr"
        }
      ]
    },
    {
      "cell_type": "code",
      "metadata": {
        "id": "9hxoxoGhZODk"
      },
      "source": [
        "def parser(x):\n",
        "    return datetime.strptime(x,'%Y')"
      ],
      "execution_count": 2,
      "outputs": []
    },
    {
      "cell_type": "code",
      "metadata": {
        "id": "e46iHu4NPUmC"
      },
      "source": [
        "df = pd.read_csv('mel_data_world.csv', header=0, parse_dates=[3], squeeze=True, date_parser=parser)[:-2]"
      ],
      "execution_count": 3,
      "outputs": []
    },
    {
      "cell_type": "code",
      "metadata": {
        "colab": {
          "base_uri": "https://localhost:8080/"
        },
        "id": "DU0zvNLWPXHm",
        "outputId": "6a98d315-691d-4b82-89ce-eee77affbc3a"
      },
      "source": [
        "df.info()"
      ],
      "execution_count": 4,
      "outputs": [
        {
          "output_type": "stream",
          "text": [
            "<class 'pandas.core.frame.DataFrame'>\n",
            "RangeIndex: 59 entries, 0 to 58\n",
            "Data columns (total 7 columns):\n",
            " #   Column   Non-Null Count  Dtype         \n",
            "---  ------   --------------  -----         \n",
            " 0   Area     59 non-null     object        \n",
            " 1   Item     59 non-null     object        \n",
            " 2   Element  59 non-null     object        \n",
            " 3   Year     59 non-null     datetime64[ns]\n",
            " 4   Source   59 non-null     object        \n",
            " 5   Unit     59 non-null     object        \n",
            " 6   Value    59 non-null     float64       \n",
            "dtypes: datetime64[ns](1), float64(1), object(5)\n",
            "memory usage: 3.4+ KB\n"
          ],
          "name": "stdout"
        }
      ]
    },
    {
      "cell_type": "code",
      "metadata": {
        "colab": {
          "base_uri": "https://localhost:8080/",
          "height": 203
        },
        "id": "lGf-_HDYPZDt",
        "outputId": "ff7c9a4a-2509-4b47-bf66-90cb4de9c97d"
      },
      "source": [
        "del df['Area']\n",
        "del df['Item']\n",
        "del df['Element']\n",
        "del df['Source']\n",
        "del df['Unit']\n",
        "df.head()"
      ],
      "execution_count": 5,
      "outputs": [
        {
          "output_type": "execute_result",
          "data": {
            "text/html": [
              "<div>\n",
              "<style scoped>\n",
              "    .dataframe tbody tr th:only-of-type {\n",
              "        vertical-align: middle;\n",
              "    }\n",
              "\n",
              "    .dataframe tbody tr th {\n",
              "        vertical-align: top;\n",
              "    }\n",
              "\n",
              "    .dataframe thead th {\n",
              "        text-align: right;\n",
              "    }\n",
              "</style>\n",
              "<table border=\"1\" class=\"dataframe\">\n",
              "  <thead>\n",
              "    <tr style=\"text-align: right;\">\n",
              "      <th></th>\n",
              "      <th>Year</th>\n",
              "      <th>Value</th>\n",
              "    </tr>\n",
              "  </thead>\n",
              "  <tbody>\n",
              "    <tr>\n",
              "      <th>0</th>\n",
              "      <td>1961-01-01</td>\n",
              "      <td>65345.0181</td>\n",
              "    </tr>\n",
              "    <tr>\n",
              "      <th>1</th>\n",
              "      <td>1962-01-01</td>\n",
              "      <td>66301.1211</td>\n",
              "    </tr>\n",
              "    <tr>\n",
              "      <th>2</th>\n",
              "      <td>1963-01-01</td>\n",
              "      <td>67010.1455</td>\n",
              "    </tr>\n",
              "    <tr>\n",
              "      <th>3</th>\n",
              "      <td>1964-01-01</td>\n",
              "      <td>67925.5358</td>\n",
              "    </tr>\n",
              "    <tr>\n",
              "      <th>4</th>\n",
              "      <td>1965-01-01</td>\n",
              "      <td>69192.9603</td>\n",
              "    </tr>\n",
              "  </tbody>\n",
              "</table>\n",
              "</div>"
            ],
            "text/plain": [
              "        Year       Value\n",
              "0 1961-01-01  65345.0181\n",
              "1 1962-01-01  66301.1211\n",
              "2 1963-01-01  67010.1455\n",
              "3 1964-01-01  67925.5358\n",
              "4 1965-01-01  69192.9603"
            ]
          },
          "metadata": {
            "tags": []
          },
          "execution_count": 5
        }
      ]
    },
    {
      "cell_type": "code",
      "metadata": {
        "id": "n76WCe46Z5XM"
      },
      "source": [
        "train = df[:int(len(df)*.92)]\n",
        "test = df[len(train):]"
      ],
      "execution_count": 6,
      "outputs": []
    },
    {
      "cell_type": "code",
      "metadata": {
        "colab": {
          "base_uri": "https://localhost:8080/"
        },
        "id": "NSpRyzcgcpx4",
        "outputId": "834d09b3-a322-4bb4-c7b5-189dc7ce3fe8"
      },
      "source": [
        "test.tail"
      ],
      "execution_count": 7,
      "outputs": [
        {
          "output_type": "execute_result",
          "data": {
            "text/plain": [
              "<bound method NDFrame.tail of          Year        Value\n",
              "54 2015-01-01   97809.4203\n",
              "55 2016-01-01   98853.5406\n",
              "56 2017-01-01   99295.5717\n",
              "57 2018-01-01   99918.7410\n",
              "58 2019-01-01  100834.1659>"
            ]
          },
          "metadata": {
            "tags": []
          },
          "execution_count": 7
        }
      ]
    },
    {
      "cell_type": "code",
      "metadata": {
        "id": "zfawoi3CctUJ"
      },
      "source": [
        "X= train[['Year']]\n",
        "y= train.iloc[:,1]"
      ],
      "execution_count": 8,
      "outputs": []
    },
    {
      "cell_type": "code",
      "metadata": {
        "colab": {
          "base_uri": "https://localhost:8080/",
          "height": 110
        },
        "id": "Lrj_r-_Tc16I",
        "outputId": "92f04901-12b2-4644-d131-185851aaf837"
      },
      "source": [
        "train_ds= pd.DataFrame()\n",
        "train_ds['ds'] = X[\"Year\"]\n",
        "train_ds['y']=y\n",
        "train_ds.tail(2)"
      ],
      "execution_count": 9,
      "outputs": [
        {
          "output_type": "execute_result",
          "data": {
            "text/html": [
              "<div>\n",
              "<style scoped>\n",
              "    .dataframe tbody tr th:only-of-type {\n",
              "        vertical-align: middle;\n",
              "    }\n",
              "\n",
              "    .dataframe tbody tr th {\n",
              "        vertical-align: top;\n",
              "    }\n",
              "\n",
              "    .dataframe thead th {\n",
              "        text-align: right;\n",
              "    }\n",
              "</style>\n",
              "<table border=\"1\" class=\"dataframe\">\n",
              "  <thead>\n",
              "    <tr style=\"text-align: right;\">\n",
              "      <th></th>\n",
              "      <th>ds</th>\n",
              "      <th>y</th>\n",
              "    </tr>\n",
              "  </thead>\n",
              "  <tbody>\n",
              "    <tr>\n",
              "      <th>52</th>\n",
              "      <td>2013-01-01</td>\n",
              "      <td>96369.3028</td>\n",
              "    </tr>\n",
              "    <tr>\n",
              "      <th>53</th>\n",
              "      <td>2014-01-01</td>\n",
              "      <td>96946.5973</td>\n",
              "    </tr>\n",
              "  </tbody>\n",
              "</table>\n",
              "</div>"
            ],
            "text/plain": [
              "           ds           y\n",
              "52 2013-01-01  96369.3028\n",
              "53 2014-01-01  96946.5973"
            ]
          },
          "metadata": {
            "tags": []
          },
          "execution_count": 9
        }
      ]
    },
    {
      "cell_type": "code",
      "metadata": {
        "colab": {
          "base_uri": "https://localhost:8080/"
        },
        "id": "nBMDf9k7c3n2",
        "outputId": "237e3ef3-9c3e-4530-f95c-76f3236da792"
      },
      "source": [
        "prop_model = Prophet()\n",
        "prop_model.fit(train_ds)"
      ],
      "execution_count": 10,
      "outputs": [
        {
          "output_type": "stream",
          "text": [
            "INFO:numexpr.utils:NumExpr defaulting to 2 threads.\n",
            "INFO:fbprophet:Disabling weekly seasonality. Run prophet with weekly_seasonality=True to override this.\n",
            "INFO:fbprophet:Disabling daily seasonality. Run prophet with daily_seasonality=True to override this.\n"
          ],
          "name": "stderr"
        },
        {
          "output_type": "execute_result",
          "data": {
            "text/plain": [
              "<fbprophet.forecaster.Prophet at 0x7f9a567974d0>"
            ]
          },
          "metadata": {
            "tags": []
          },
          "execution_count": 10
        }
      ]
    },
    {
      "cell_type": "code",
      "metadata": {
        "colab": {
          "base_uri": "https://localhost:8080/",
          "height": 307
        },
        "id": "i1AVOT-Tc46Q",
        "outputId": "978e9e79-c702-4033-c60c-e39eeabb67ad"
      },
      "source": [
        "future= prop_model.make_future_dataframe(periods=len(test), freq='YS')\n",
        "prop_pred = prop_model.predict(future)\n",
        "prop_pred.tail(5)"
      ],
      "execution_count": 11,
      "outputs": [
        {
          "output_type": "execute_result",
          "data": {
            "text/html": [
              "<div>\n",
              "<style scoped>\n",
              "    .dataframe tbody tr th:only-of-type {\n",
              "        vertical-align: middle;\n",
              "    }\n",
              "\n",
              "    .dataframe tbody tr th {\n",
              "        vertical-align: top;\n",
              "    }\n",
              "\n",
              "    .dataframe thead th {\n",
              "        text-align: right;\n",
              "    }\n",
              "</style>\n",
              "<table border=\"1\" class=\"dataframe\">\n",
              "  <thead>\n",
              "    <tr style=\"text-align: right;\">\n",
              "      <th></th>\n",
              "      <th>ds</th>\n",
              "      <th>trend</th>\n",
              "      <th>yhat_lower</th>\n",
              "      <th>yhat_upper</th>\n",
              "      <th>trend_lower</th>\n",
              "      <th>trend_upper</th>\n",
              "      <th>additive_terms</th>\n",
              "      <th>additive_terms_lower</th>\n",
              "      <th>additive_terms_upper</th>\n",
              "      <th>yearly</th>\n",
              "      <th>yearly_lower</th>\n",
              "      <th>yearly_upper</th>\n",
              "      <th>multiplicative_terms</th>\n",
              "      <th>multiplicative_terms_lower</th>\n",
              "      <th>multiplicative_terms_upper</th>\n",
              "      <th>yhat</th>\n",
              "    </tr>\n",
              "  </thead>\n",
              "  <tbody>\n",
              "    <tr>\n",
              "      <th>54</th>\n",
              "      <td>2015-01-01</td>\n",
              "      <td>35313.604747</td>\n",
              "      <td>97628.116913</td>\n",
              "      <td>98788.991540</td>\n",
              "      <td>35300.895409</td>\n",
              "      <td>35338.332625</td>\n",
              "      <td>62871.305990</td>\n",
              "      <td>62871.305990</td>\n",
              "      <td>62871.305990</td>\n",
              "      <td>62871.305990</td>\n",
              "      <td>62871.305990</td>\n",
              "      <td>62871.305990</td>\n",
              "      <td>0.0</td>\n",
              "      <td>0.0</td>\n",
              "      <td>0.0</td>\n",
              "      <td>98184.910737</td>\n",
              "    </tr>\n",
              "    <tr>\n",
              "      <th>55</th>\n",
              "      <td>2016-01-01</td>\n",
              "      <td>35948.372910</td>\n",
              "      <td>98246.984659</td>\n",
              "      <td>99497.503727</td>\n",
              "      <td>35867.089602</td>\n",
              "      <td>36061.606824</td>\n",
              "      <td>62918.007550</td>\n",
              "      <td>62918.007550</td>\n",
              "      <td>62918.007550</td>\n",
              "      <td>62918.007550</td>\n",
              "      <td>62918.007550</td>\n",
              "      <td>62918.007550</td>\n",
              "      <td>0.0</td>\n",
              "      <td>0.0</td>\n",
              "      <td>0.0</td>\n",
              "      <td>98866.380460</td>\n",
              "    </tr>\n",
              "    <tr>\n",
              "      <th>56</th>\n",
              "      <td>2017-01-01</td>\n",
              "      <td>36584.880165</td>\n",
              "      <td>98664.470744</td>\n",
              "      <td>99977.715368</td>\n",
              "      <td>36410.305024</td>\n",
              "      <td>36817.254358</td>\n",
              "      <td>62699.410722</td>\n",
              "      <td>62699.410722</td>\n",
              "      <td>62699.410722</td>\n",
              "      <td>62699.410722</td>\n",
              "      <td>62699.410722</td>\n",
              "      <td>62699.410722</td>\n",
              "      <td>0.0</td>\n",
              "      <td>0.0</td>\n",
              "      <td>0.0</td>\n",
              "      <td>99284.290887</td>\n",
              "    </tr>\n",
              "    <tr>\n",
              "      <th>57</th>\n",
              "      <td>2018-01-01</td>\n",
              "      <td>37219.648328</td>\n",
              "      <td>99289.258836</td>\n",
              "      <td>100764.286093</td>\n",
              "      <td>36918.859375</td>\n",
              "      <td>37611.194342</td>\n",
              "      <td>62798.318866</td>\n",
              "      <td>62798.318866</td>\n",
              "      <td>62798.318866</td>\n",
              "      <td>62798.318866</td>\n",
              "      <td>62798.318866</td>\n",
              "      <td>62798.318866</td>\n",
              "      <td>0.0</td>\n",
              "      <td>0.0</td>\n",
              "      <td>0.0</td>\n",
              "      <td>100017.967194</td>\n",
              "    </tr>\n",
              "    <tr>\n",
              "      <th>58</th>\n",
              "      <td>2019-01-01</td>\n",
              "      <td>37854.416492</td>\n",
              "      <td>99899.191438</td>\n",
              "      <td>101553.994916</td>\n",
              "      <td>37394.064838</td>\n",
              "      <td>38385.020294</td>\n",
              "      <td>62871.305990</td>\n",
              "      <td>62871.305990</td>\n",
              "      <td>62871.305990</td>\n",
              "      <td>62871.305990</td>\n",
              "      <td>62871.305990</td>\n",
              "      <td>62871.305990</td>\n",
              "      <td>0.0</td>\n",
              "      <td>0.0</td>\n",
              "      <td>0.0</td>\n",
              "      <td>100725.722481</td>\n",
              "    </tr>\n",
              "  </tbody>\n",
              "</table>\n",
              "</div>"
            ],
            "text/plain": [
              "           ds         trend  ...  multiplicative_terms_upper           yhat\n",
              "54 2015-01-01  35313.604747  ...                         0.0   98184.910737\n",
              "55 2016-01-01  35948.372910  ...                         0.0   98866.380460\n",
              "56 2017-01-01  36584.880165  ...                         0.0   99284.290887\n",
              "57 2018-01-01  37219.648328  ...                         0.0  100017.967194\n",
              "58 2019-01-01  37854.416492  ...                         0.0  100725.722481\n",
              "\n",
              "[5 rows x 16 columns]"
            ]
          },
          "metadata": {
            "tags": []
          },
          "execution_count": 11
        }
      ]
    },
    {
      "cell_type": "code",
      "metadata": {
        "id": "h0aQmGdgdRlh"
      },
      "source": [
        "prop_prediction = pd.DataFrame({\"Year\" : prop_pred[-len(test):]['ds'], \"Prediction\" : prop_pred[-len(test):]['yhat']})\n",
        "prop_prediction = prop_prediction.set_index(\"Year\")\n",
        "prop_prediction.index.freq = 'YS'"
      ],
      "execution_count": 12,
      "outputs": []
    },
    {
      "cell_type": "code",
      "metadata": {
        "id": "eILLewp7dxA6"
      },
      "source": [
        "test.columns = ['ds','y']"
      ],
      "execution_count": 13,
      "outputs": []
    },
    {
      "cell_type": "code",
      "metadata": {
        "colab": {
          "base_uri": "https://localhost:8080/",
          "height": 203
        },
        "id": "qaNHexvtuJjy",
        "outputId": "74cd169b-4dbf-455c-8280-d96f999e60cb"
      },
      "source": [
        "test.head()"
      ],
      "execution_count": 14,
      "outputs": [
        {
          "output_type": "execute_result",
          "data": {
            "text/html": [
              "<div>\n",
              "<style scoped>\n",
              "    .dataframe tbody tr th:only-of-type {\n",
              "        vertical-align: middle;\n",
              "    }\n",
              "\n",
              "    .dataframe tbody tr th {\n",
              "        vertical-align: top;\n",
              "    }\n",
              "\n",
              "    .dataframe thead th {\n",
              "        text-align: right;\n",
              "    }\n",
              "</style>\n",
              "<table border=\"1\" class=\"dataframe\">\n",
              "  <thead>\n",
              "    <tr style=\"text-align: right;\">\n",
              "      <th></th>\n",
              "      <th>ds</th>\n",
              "      <th>y</th>\n",
              "    </tr>\n",
              "  </thead>\n",
              "  <tbody>\n",
              "    <tr>\n",
              "      <th>54</th>\n",
              "      <td>2015-01-01</td>\n",
              "      <td>97809.4203</td>\n",
              "    </tr>\n",
              "    <tr>\n",
              "      <th>55</th>\n",
              "      <td>2016-01-01</td>\n",
              "      <td>98853.5406</td>\n",
              "    </tr>\n",
              "    <tr>\n",
              "      <th>56</th>\n",
              "      <td>2017-01-01</td>\n",
              "      <td>99295.5717</td>\n",
              "    </tr>\n",
              "    <tr>\n",
              "      <th>57</th>\n",
              "      <td>2018-01-01</td>\n",
              "      <td>99918.7410</td>\n",
              "    </tr>\n",
              "    <tr>\n",
              "      <th>58</th>\n",
              "      <td>2019-01-01</td>\n",
              "      <td>100834.1659</td>\n",
              "    </tr>\n",
              "  </tbody>\n",
              "</table>\n",
              "</div>"
            ],
            "text/plain": [
              "           ds            y\n",
              "54 2015-01-01   97809.4203\n",
              "55 2016-01-01   98853.5406\n",
              "56 2017-01-01   99295.5717\n",
              "57 2018-01-01   99918.7410\n",
              "58 2019-01-01  100834.1659"
            ]
          },
          "metadata": {
            "tags": []
          },
          "execution_count": 14
        }
      ]
    },
    {
      "cell_type": "code",
      "metadata": {
        "colab": {
          "base_uri": "https://localhost:8080/"
        },
        "id": "36WgGkQSkGTy",
        "outputId": "d92125ba-3dd4-425c-ba37-c7d8973e0816"
      },
      "source": [
        "test[\"Prophet_Pred_Val\"] = prop_prediction['Prediction'].values\n",
        "test = test.set_index(\"ds\")"
      ],
      "execution_count": 15,
      "outputs": [
        {
          "output_type": "stream",
          "text": [
            "/usr/local/lib/python3.7/dist-packages/ipykernel_launcher.py:1: SettingWithCopyWarning:\n",
            "\n",
            "\n",
            "A value is trying to be set on a copy of a slice from a DataFrame.\n",
            "Try using .loc[row_indexer,col_indexer] = value instead\n",
            "\n",
            "See the caveats in the documentation: https://pandas.pydata.org/pandas-docs/stable/user_guide/indexing.html#returning-a-view-versus-a-copy\n",
            "\n"
          ],
          "name": "stderr"
        }
      ]
    },
    {
      "cell_type": "code",
      "metadata": {
        "colab": {
          "base_uri": "https://localhost:8080/",
          "height": 432
        },
        "id": "KSPaDs0s25b9",
        "outputId": "f1407339-dd21-47a7-d589-b3e3e79108c4"
      },
      "source": [
        "plt.figure(figsize=(20,7))\n",
        "sns.lineplot(x=test.index, y=test[\"y\"], color=\"blue\",marker='.', label='Original')\n",
        "sns.lineplot(x=test.index, y= test[\"Prophet_Pred_Val\"],color='red',marker='.',label='Prediction')"
      ],
      "execution_count": 16,
      "outputs": [
        {
          "output_type": "execute_result",
          "data": {
            "text/plain": [
              "<matplotlib.axes._subplots.AxesSubplot at 0x7f9a594263d0>"
            ]
          },
          "metadata": {
            "tags": []
          },
          "execution_count": 16
        },
        {
          "output_type": "display_data",
          "data": {
            "image/png": "[encoded data removed]",
            "text/plain": [
              "<Figure size 1440x504 with 1 Axes>"
            ]
          },
          "metadata": {
            "tags": [],
            "needs_background": "light"
          }
        }
      ]
    },
    {
      "cell_type": "code",
      "metadata": {
        "colab": {
          "base_uri": "https://localhost:8080/"
        },
        "id": "rBezYi2DqUol",
        "outputId": "e7908347-219a-42de-c865-537f1a31abc1"
      },
      "source": [
        "print('Test Mean Absolute Error for Prophet: ', mean_absolute_error(test['y'],test['Prophet_Pred_Val']))\n",
        "print('Test Root Mean Squared Error for Prophet: ', np.sqrt(rmse(test['y'], test['Prophet_Pred_Val'])))\n",
        "print('Test Mean Absolute Percentage Error for Prophet: ', np.mean(np.abs((test['y'] - test['Prophet_Pred_Val']) / test['y'])) * 100)"
      ],
      "execution_count": 17,
      "outputs": [
        {
          "output_type": "stream",
          "text": [
            "Test Mean Absolute Error for Prophet:  121.45614457343473\n",
            "Test Root Mean Squared Error for Prophet:  13.434817484479124\n",
            "Test Mean Absolute Percentage Error for Prophet:  0.12302057622388866\n"
          ],
          "name": "stdout"
        }
      ]
    },
    {
      "cell_type": "code",
      "metadata": {
        "id": "X5pw0wbOXyW-"
      },
      "source": [
        ""
      ],
      "execution_count": null,
      "outputs": []
    }
  ]
}