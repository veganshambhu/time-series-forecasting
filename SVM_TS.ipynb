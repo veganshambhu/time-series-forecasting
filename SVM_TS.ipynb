{
  "nbformat": 4,
  "nbformat_minor": 0,
  "metadata": {
    "colab": {
      "name": "SVM_TS.ipynb",
      "provenance": [],
      "collapsed_sections": []
    },
    "kernelspec": {
      "name": "python3",
      "display_name": "Python 3"
    },
    "language_info": {
      "name": "python"
    }
  },
  "cells": [
    {
      "cell_type": "code",
      "metadata": {
        "id": "6WfspT3K68sZ"
      },
      "source": [
        "import numpy as np\n",
        "from sklearn.svm import SVR\n",
        "import pandas as pd\n",
        "from sklearn.preprocessing import  MinMaxScaler\n",
        "import matplotlib.pyplot as plt\n",
        "import seaborn as sns\n",
        "from datetime import datetime\n",
        "from sklearn.metrics import mean_absolute_error\n",
        "from sklearn.metrics import mean_squared_error\n",
        "#from matplotlib.pylab import rcParams"
      ],
      "execution_count": 1,
      "outputs": []
    },
    {
      "cell_type": "code",
      "metadata": {
        "id": "t6u-4DgJjwSL"
      },
      "source": [
        "def parser(x):\n",
        "    return datetime.strptime(x,'%Y')"
      ],
      "execution_count": 2,
      "outputs": []
    },
    {
      "cell_type": "code",
      "metadata": {
        "id": "ZcWnAlgmj5pv"
      },
      "source": [
        "df = pd.read_csv('mel_data_world.csv', header=0, parse_dates=[3], squeeze=True, date_parser=parser)[:-2]"
      ],
      "execution_count": 3,
      "outputs": []
    },
    {
      "cell_type": "code",
      "metadata": {
        "colab": {
          "base_uri": "https://localhost:8080/",
          "height": 203
        },
        "id": "og1a7groj65_",
        "outputId": "6cfb808a-e0b8-418b-aa99-07f3a799d721"
      },
      "source": [
        "del df['Area']\n",
        "del df['Item']\n",
        "del df['Element']\n",
        "del df['Source']\n",
        "del df['Unit']\n",
        "df.head()"
      ],
      "execution_count": 4,
      "outputs": [
        {
          "output_type": "execute_result",
          "data": {
            "text/html": [
              "<div>\n",
              "<style scoped>\n",
              "    .dataframe tbody tr th:only-of-type {\n",
              "        vertical-align: middle;\n",
              "    }\n",
              "\n",
              "    .dataframe tbody tr th {\n",
              "        vertical-align: top;\n",
              "    }\n",
              "\n",
              "    .dataframe thead th {\n",
              "        text-align: right;\n",
              "    }\n",
              "</style>\n",
              "<table border=\"1\" class=\"dataframe\">\n",
              "  <thead>\n",
              "    <tr style=\"text-align: right;\">\n",
              "      <th></th>\n",
              "      <th>Year</th>\n",
              "      <th>Value</th>\n",
              "    </tr>\n",
              "  </thead>\n",
              "  <tbody>\n",
              "    <tr>\n",
              "      <th>0</th>\n",
              "      <td>1961-01-01</td>\n",
              "      <td>65345.0181</td>\n",
              "    </tr>\n",
              "    <tr>\n",
              "      <th>1</th>\n",
              "      <td>1962-01-01</td>\n",
              "      <td>66301.1211</td>\n",
              "    </tr>\n",
              "    <tr>\n",
              "      <th>2</th>\n",
              "      <td>1963-01-01</td>\n",
              "      <td>67010.1455</td>\n",
              "    </tr>\n",
              "    <tr>\n",
              "      <th>3</th>\n",
              "      <td>1964-01-01</td>\n",
              "      <td>67925.5358</td>\n",
              "    </tr>\n",
              "    <tr>\n",
              "      <th>4</th>\n",
              "      <td>1965-01-01</td>\n",
              "      <td>69192.9603</td>\n",
              "    </tr>\n",
              "  </tbody>\n",
              "</table>\n",
              "</div>"
            ],
            "text/plain": [
              "        Year       Value\n",
              "0 1961-01-01  65345.0181\n",
              "1 1962-01-01  66301.1211\n",
              "2 1963-01-01  67010.1455\n",
              "3 1964-01-01  67925.5358\n",
              "4 1965-01-01  69192.9603"
            ]
          },
          "metadata": {
            "tags": []
          },
          "execution_count": 4
        }
      ]
    },
    {
      "cell_type": "code",
      "metadata": {
        "id": "dU-AIyHfUOG-"
      },
      "source": [
        "X = df.drop(['Value'], axis = 1)\n",
        "y = df['Value']\n",
        "y=np.log1p(y)"
      ],
      "execution_count": 5,
      "outputs": []
    },
    {
      "cell_type": "code",
      "metadata": {
        "colab": {
          "base_uri": "https://localhost:8080/"
        },
        "id": "yEzkULFwRkUe",
        "outputId": "9aa078fc-2550-4adc-d7b3-12dd32d4aeca"
      },
      "source": [
        "y.tail()"
      ],
      "execution_count": 6,
      "outputs": [
        {
          "output_type": "execute_result",
          "data": {
            "text/plain": [
              "54    11.490786\n",
              "55    11.501405\n",
              "56    11.505866\n",
              "57    11.512123\n",
              "58    11.521242\n",
              "Name: Value, dtype: float64"
            ]
          },
          "metadata": {
            "tags": []
          },
          "execution_count": 6
        }
      ]
    },
    {
      "cell_type": "code",
      "metadata": {
        "id": "-NjFcws1inrE"
      },
      "source": [
        "train = df[:int(len(df)*.92)]\n",
        "test = df[len(train):]\n",
        "X= train[['Year']]\n",
        "y= train.iloc[:,1]"
      ],
      "execution_count": 7,
      "outputs": []
    },
    {
      "cell_type": "code",
      "metadata": {
        "id": "sgKIJ6DdSRhh"
      },
      "source": [
        "X_train=X[:int(len(df)*.92)]\n",
        "y_train=y[:int(len(df)*.92)]\n",
        "X_test=X[int(len(df)*.92):]\n",
        "y_test=y[int(len(df)*.92):]"
      ],
      "execution_count": 7,
      "outputs": []
    },
    {
      "cell_type": "code",
      "metadata": {
        "colab": {
          "base_uri": "https://localhost:8080/"
        },
        "id": "MeE5SkWJqFHE",
        "outputId": "dfd8f9ec-0b27-4b33-b78d-db07466ff9b1"
      },
      "source": [
        "#print(X_train.head())\n",
        "#print(y_train.head())\n",
        "#print(X_test.head())\n",
        "print(y_test.tail())"
      ],
      "execution_count": 8,
      "outputs": [
        {
          "output_type": "stream",
          "text": [
            "54    11.490786\n",
            "55    11.501405\n",
            "56    11.505866\n",
            "57    11.512123\n",
            "58    11.521242\n",
            "Name: Value, dtype: float64\n"
          ],
          "name": "stdout"
        }
      ]
    },
    {
      "cell_type": "code",
      "metadata": {
        "id": "7bzgDt78vpDm"
      },
      "source": [
        "from sklearn.svm import SVR\n",
        "from sklearn import svm"
      ],
      "execution_count": 9,
      "outputs": []
    },
    {
      "cell_type": "code",
      "metadata": {
        "id": "TcDHmzq2Rw7y",
        "colab": {
          "base_uri": "https://localhost:8080/"
        },
        "outputId": "b9be877f-240b-4079-861f-0a8ff8b93c86"
      },
      "source": [
        "# First, let's choose which kernel is the best for our data\n",
        "\n",
        "for k in ['linear','poly','rbf','sigmoid']:\n",
        "    clf = svm.SVR(kernel=k)\n",
        "    clf.fit(X_train, y_train)\n",
        "    confidence = clf.score(X_train, y_train)\n",
        "    print(k,confidence)"
      ],
      "execution_count": 10,
      "outputs": [
        {
          "output_type": "stream",
          "text": [
            "linear 0.5314289304850022\n",
            "poly 0.47819021824345176\n",
            "rbf 0.5539388491518102\n",
            "sigmoid -1430.3995104956932\n"
          ],
          "name": "stdout"
        }
      ]
    },
    {
      "cell_type": "code",
      "metadata": {
        "id": "R0OVXbeiRDUG"
      },
      "source": [
        "Svr=SVR(kernel='rbf', C=1, gamma= 0.5)"
      ],
      "execution_count": 11,
      "outputs": []
    },
    {
      "cell_type": "code",
      "metadata": {
        "colab": {
          "base_uri": "https://localhost:8080/"
        },
        "id": "NYaNWhrmVMty",
        "outputId": "331fd105-c249-423f-cc34-f2039fb8c88d"
      },
      "source": [
        "Svr.fit(X_train,y_train)\n",
        "print(Svr.score(X_train,y_train))"
      ],
      "execution_count": 12,
      "outputs": [
        {
          "output_type": "stream",
          "text": [
            "0.409626446617971\n"
          ],
          "name": "stdout"
        }
      ]
    },
    {
      "cell_type": "code",
      "metadata": {
        "colab": {
          "base_uri": "https://localhost:8080/"
        },
        "id": "t3fWVAqodjho",
        "outputId": "1752af1a-76bd-4b64-ca1c-7e55212b076f"
      },
      "source": [
        "y_pred = Svr.predict(X_test)\n",
        "print(y_pred)"
      ],
      "execution_count": 13,
      "outputs": [
        {
          "output_type": "stream",
          "text": [
            "[11.30774866 11.30774866 11.30774866 11.30774866 11.30774866]\n"
          ],
          "name": "stdout"
        }
      ]
    },
    {
      "cell_type": "code",
      "metadata": {
        "colab": {
          "base_uri": "https://localhost:8080/"
        },
        "id": "yU-F5kkbtMhH",
        "outputId": "ffe81bde-1755-4a7d-d3e9-212157aace85"
      },
      "source": [
        "y_pred"
      ],
      "execution_count": 19,
      "outputs": [
        {
          "output_type": "execute_result",
          "data": {
            "text/plain": [
              "array([11.30774866, 11.30774866, 11.30774866, 11.30774866, 11.30774866])"
            ]
          },
          "metadata": {
            "tags": []
          },
          "execution_count": 19
        }
      ]
    },
    {
      "cell_type": "code",
      "metadata": {
        "colab": {
          "base_uri": "https://localhost:8080/"
        },
        "id": "0GehQMj3VPL6",
        "outputId": "94de54b2-5a5c-4d83-ed5b-b3a1ee61c6df"
      },
      "source": [
        "from math import sqrt\n",
        "from sklearn import metrics\n",
        "\n",
        "maeerror = sqrt(metrics.mean_absolute_error(y_test,y_pred)) #calculate MAE\n",
        "print('MAE value of the SVR Model is:', maeerror)\n",
        "rmseerror = sqrt(metrics.mean_squared_error(y_test,y_pred)) #calculate rmse\n",
        "print('RMSE value of the SVR Model is:', rmseerror)\n",
        "mapeerror = np.mean(np.abs((y_test - y_pred) / y_test)) * 100\n",
        "print('MAPE value of the SVR Model is:', mapeerror)"
      ],
      "execution_count": 15,
      "outputs": [
        {
          "output_type": "stream",
          "text": [
            "MAE value of the SVR Model is: 0.445573604897019\n",
            "RMSE value of the SVR Model is: 0.19879858873068118\n",
            "MAPE value of the SVR Model is: 1.7253781639572827\n"
          ],
          "name": "stdout"
        }
      ]
    },
    {
      "cell_type": "code",
      "metadata": {
        "id": "XhSSoTDWVwjP"
      },
      "source": [
        ""
      ],
      "execution_count": null,
      "outputs": []
    }
  ]
}